{
    "nbformat_minor": 1, 
    "cells": [
        {
            "source": " <h1><center>Capstone Project - The Battle of Neighborhoods (Week 1)</center></h1><h2>Explore neighborhoods in the cities of Greater Kuala Lumpur to recommend a location for opening a coffee Shop.</h2>", 
            "cell_type": "markdown", 
            "metadata": {
                "collapsed": true
            }
        }, 
        {
            "source": "<h3> Introduction/ Business Problem:", 
            "cell_type": "markdown", 
            "metadata": {}
        }, 
        {
            "source": "A friend just moved back to Malaysia from Australia recently and is planning to open a coffee shop in Greater Kuala Lumpur. However, he is not sure about the best location to start up his coffee shop. So he ask for my help to recommend the location. With my knowledge in Data Science and skills using location, I will explore cities and neighborhoods in Greater Kuala Lumpur to identify and recommend him the best location for his new coffee shop. This approach is more time-efficient compare to conventional approach(market research, online surveying, etc). \n \nGreater Kuala Lumpur, also refer as Klang Valley is an area in Malaysia which is centered in Kuala Lumpur, and includes its adjoining cities and towns in the state of Selangor. It comprises 3 cities(Kuala Lumpur, Petaling Jaya, Shah Alam) & 6 Municipality(Kajang, Klang, Subang Jaya, Selayang, Ampang Jaya, Sepang). To begin with, I pick the top 2 most populated cities in Greater Kuala Lumpur which is Kuala Lumpur(1,588,750 inhabitants) and Petaling Jaya(613,977 inhabitants), detail refer to [here](https://en.wikipedia.org/wiki/List_of_cities_and_towns_in_Malaysia_by_population). Both Kuala Lumpur(KL) and Petaling Jaya are the popular choice amongst city dwellers and visitors alike with its abundance of shopping and gastronomic delights \u2013 with thousands of hawker stalls, cafes, and restaurants.[(Read more here)](http://www.kuala-lumpur.ws/?cid=ch:OTH:001) and [here](http://www.kuala-lumpur.ws/klareas/pj.htm). \n\nThere is few critical factors to be considered when choosing a new coffee shop location in order to be profitable and successful such as population, crime rates, visibility & accessibility, surrounding environment and affordability(rental/property pricing).", 
            "cell_type": "markdown", 
            "metadata": {}
        }, 
        {
            "source": "<h3>Data  ", 
            "cell_type": "markdown", 
            "metadata": {}
        }, 
        {
            "source": "<h4>Belows are the data needed to solve this prolem:</h4>  \n\n  * List of suburbs and neighborhoods of Kuala Lumpur and Petaling Jaya with Zipcode:  \n  Will use this info to get geo-coordinate data using geopy library which can be useful when I use foursquare location API to explore neighborhood API later.  \n  * Foursquare location API:  \n  to explore the neighbourhoods(venues & categotical data) in Kuala Lumpur and Petaling jaya to research surrounding business(is the area affluent?, What types of restaurants/shops in the area? Are they any coffee shop around the neighborhoods, what are trending places in the neighborhoods).\n  * Population, Average Rental pricing(psf), crime level of all suburbs and neighborhoods.  \n  can be mapped to the location data above to help identify the potential/selected location which has enough population, low/average crime level and reasonable rental price(psf).", 
            "cell_type": "markdown", 
            "metadata": {}
        }
    ], 
    "metadata": {
        "kernelspec": {
            "display_name": "Python 3.6", 
            "name": "python3", 
            "language": "python"
        }, 
        "language_info": {
            "mimetype": "text/x-python", 
            "nbconvert_exporter": "python", 
            "version": "3.6.8", 
            "name": "python", 
            "file_extension": ".py", 
            "pygments_lexer": "ipython3", 
            "codemirror_mode": {
                "version": 3, 
                "name": "ipython"
            }
        }
    }, 
    "nbformat": 4
}